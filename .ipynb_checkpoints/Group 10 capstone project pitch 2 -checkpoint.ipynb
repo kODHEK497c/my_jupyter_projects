{
 "cells": [
  {
   "cell_type": "markdown",
   "id": "98e25a02",
   "metadata": {},
   "source": [
    "# Group 10 Capstone Project Pitch \n",
    "\n",
    "\n",
    "### Project Overview: \n",
    "# <u> Content Creation & Monetization<u/>\n",
    "### Business Problem:\n",
    ">Content creation has proven to be a niche for people to share knowledge, exihibit talents and generate both exposure and income while they do so. However, a significant challenge arises for many creators who struggle to gain traction, missing out on crucial views necessary for monetization,broad exposure and societal impact they intended to make\n",
    "### Business objective:\n",
    "Digital landscape platforms like YouTube provides content creators are powerful avenue for content creation.We will scrap data from Youtube API to obtain video statistics of specific channels and analyze the following\n",
    "    \n",
    "#### 1.Views Per Video:\n",
    ">Analyzing views per video provides insights into the content that resonates most with the audience. \n",
    "    \n",
    "#### 2.Tags:\n",
    ">Effective use of tags is crucial for discoverability. Analyzing tags helps content creators identify the most relevant and trending keywords in their niche. \n",
    "    \n",
    "#### 3.Likes Count:\n",
    ">The number of likes reflects audience engagement and satisfaction. Analyzing likes count helps content creators gauge the popularity of specific content. \n",
    "    \n",
    "#### 4.Subscribers Count:\n",
    "Subscribers represent a dedicated audience. Analyzing subscriber growth provides insights into the overall appeal of the content. \n",
    "    \n",
    "#### 5.Comment Count:\n",
    ">Comments indicate viewer interaction and interest.Engaging with comments and incorporating viewer feedback can enhance community building, resulting in increased exposure, views, and potential income through viewer loyalty.\n",
    "    \n",
    "#### 6.Duration of Each Video:\n",
    ">Video duration affects viewer engagement. Analyzing the duration of each video helps content creators understand optimal length. Balancing content depth with viewer attention spans.\n",
    "    \n",
    "#### 7.Video Upload Schedule:\n",
    ">Consistency in video upload schedules is key. Analyzing upload schedules helps content creators identify peak engagement times. Maintaining a regular posting schedule can improve visibility.\n",
    "    \n",
    "#### 8.Comment Threads:\n",
    ">Deepening engagement through comment threads is valuable. Analyzing comment interactions helps content creators in Encouraging discussions and responding to comments can create a vibrant community, driving more views and income through increased audience interaction.\n",
    "    \n",
    "#### 9.Caption Use:\n",
    ">Effective captions enhance accessibility and engagement. Analyzing the use of captions helps content creators reach a broader audience, including those with hearing impairments. Accessible content attracts a diverse audience.\n",
    "    \n",
    "#### 10.Channel Membership Count:\n",
    ">Channel memberships reflect a committed fan base. Analyzing membership growth helps content creators understand the appeal of exclusive perks. Enhancing membership offerings and providing value can lead to increased subscriber loyalty.\n",
    "    \n",
    "#### 11.Watermarks:\n",
    ">Watermarks contribute to brand visibility. Analyzing the effectiveness of watermarks helps content creators reinforce brand identity. Consistent branding enhances recognition, leading to increased exposure, views, and potential income through brand partnerships and collaborations."
   ]
  },
  {
   "cell_type": "code",
   "execution_count": null,
   "id": "6a72f45e",
   "metadata": {},
   "outputs": [],
   "source": []
  },
  {
   "cell_type": "code",
   "execution_count": null,
   "id": "366265ea",
   "metadata": {},
   "outputs": [],
   "source": []
  }
 ],
 "metadata": {
  "kernelspec": {
   "display_name": "Python 3 (ipykernel)",
   "language": "python",
   "name": "python3"
  },
  "language_info": {
   "codemirror_mode": {
    "name": "ipython",
    "version": 3
   },
   "file_extension": ".py",
   "mimetype": "text/x-python",
   "name": "python",
   "nbconvert_exporter": "python",
   "pygments_lexer": "ipython3",
   "version": "3.10.13"
  }
 },
 "nbformat": 4,
 "nbformat_minor": 5
}
